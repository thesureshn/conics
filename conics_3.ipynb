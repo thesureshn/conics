{
 "cells": [
  {
   "cell_type": "code",
   "execution_count": 111,
   "metadata": {},
   "outputs": [],
   "source": [
    "#Program to plot  a hyperbola\n",
    "import numpy as np\n",
    "import matplotlib.pyplot as plt\n",
    "from numpy import linalg as LA\n",
    "from coeffs import *\n",
    "#if using termux\n",
    "#import subprocess\n",
    "#import shlex\n",
    "#end if"
   ]
  },
  {
   "cell_type": "code",
   "execution_count": 112,
   "metadata": {},
   "outputs": [
    {
     "name": "stdout",
     "output_type": "stream",
     "text": [
      "[25.  9.]\n",
      "[[1. 0.]\n",
      " [0. 1.]]\n",
      "D=\n",
      " [[25.  0.]\n",
      " [ 0.  9.]]\n",
      "E=\n",
      " [[1. 0.]\n",
      " [0. 1.]]\n"
     ]
    }
   ],
   "source": [
    "#Given hyperbola parameters\n",
    "#Eqn : x.T@V@x = F\n",
    "V = np.array(([25,0],[0,9]))\n",
    "F = 225\n",
    "O = np.array([0,0])\n",
    "\n",
    "#Standard Eqn : y.T@D@y=1\n",
    "#comparing these equations, get :  \n",
    "#y = P.T@x/sqrt(F)\n",
    "#P.T@V@P = D\n",
    "#P.T@P = I\n",
    "\n",
    "eigval,eigvec = LA.eig(V)\n",
    "print(eigval)\n",
    "print(eigvec)\n",
    "\n",
    "\n",
    "D = np.diag(eigval)\n",
    "E = eigvec\n",
    "print(\"D=\\n\",D)\n",
    "print(\"E=\\n\",E)"
   ]
  },
  {
   "cell_type": "code",
   "execution_count": 113,
   "metadata": {},
   "outputs": [],
   "source": [
    "#Generating points on the ellipse at origin\n",
    "len = 100\n",
    "theta = np.linspace(0,2*np.pi,len)\n",
    "y = np.zeros((2,len))\n",
    "y[0,:] = 1/eigval[0]*np.cos(theta)\n",
    "y[1,:] = 1/eigval[1]*np.sin(theta)\n",
    "\n",
    "#from p it is clear that point (a1*cos0, b1*sin0) a=3, b=4 0=60\n",
    "a1 = 3; b1 = 5;\n",
    "P = np.array([a1*np.cos(np.pi/3), b1*np.sin(np.pi/3)])\n",
    "tp1 = np.array([0,b1/np.sin(np.pi/3)])\n",
    "tp2 = np.array([a1/np.cos(np.pi/3),0])"
   ]
  },
  {
   "cell_type": "code",
   "execution_count": 116,
   "metadata": {},
   "outputs": [],
   "source": [
    "#perpendiculars from focus to tangent\n",
    "omat = np.array([[0,1],[-1,0]])\n",
    "n = np.array([b1*np.cos(np.pi/3), a1*np.sin(np.pi/3)]) # direction vector of tangent\n",
    "nt = np.dot(omat,n) #direction vector of normal\n",
    "#print(nt)\n",
    "\n",
    "x1 = np.array([(4*b1*np.cos(np.pi/3))/(-a1*np.sin(np.pi/3)), 0]) #x1 x2 point normal1 \n",
    "x2 = np.array([0+1,4+1])\n",
    "x3 = np.array([0, -4])                                          #x3 and x4 point on normal2\n",
    "x4 = np.array([(4*b1*np.cos(np.pi/3))/(a1*np.sin(np.pi/3))+2, 0+2])"
   ]
  },
  {
   "cell_type": "code",
   "execution_count": 117,
   "metadata": {},
   "outputs": [
    {
     "data": {
      "image/png": "[encoded data removed]",
      "text/plain": [
       "<Figure size 432x288 with 1 Axes>"
      ]
     },
     "metadata": {
      "needs_background": "light"
     },
     "output_type": "display_data"
    }
   ],
   "source": [
    "u = O[0]\n",
    "v = O[1]\n",
    "a = np.sqrt(D[1,1])\n",
    "b = np.sqrt(D[0,0])\n",
    "c = np.sqrt(np.power(b,2)-np.power(a,2))\n",
    "f1 = np.array([0,c])\n",
    "#print(f1)\n",
    "f2 = np.array([0,-c])\n",
    "X_Pf1 = line_gen(P,f1)\n",
    "X_Pf2 = line_gen(P,f2)\n",
    "\n",
    "X_tangent = line_gen(tp1,tp2)\n",
    "\n",
    "#perpendiculars from focus\n",
    "X_x1x2 = line_gen(x1,x2)\n",
    "X_x3x4 = line_gen(x3,x4)\n",
    "\n",
    "\n",
    "t = np.linspace(0, 2*np.pi, 100)\n",
    "Ell = np.array([u+a*np.cos(t) , v+b*np.sin(t)])\n",
    "plt.plot(Ell[0,:],Ell[1,:],label='$ellipse$')\n",
    "plt.plot(O[0],O[1], 'o',label='$Centre$')\n",
    "\n",
    "plt.plot(X_x1x2[0,:],X_x1x2[1,:],label='normal 1')\n",
    "plt.plot(X_x3x4[0,:],X_x3x4[1,:],label='normal 2')\n",
    "#plt.plot(X_Pf1[0,:],X_Pf1[1,:],label='OF1')\n",
    "#plt.plot(X_Pf2[0,:],X_Pf2[1,:],label='OF2')\n",
    "plt.plot(X_tangent[0,:],X_tangent[1,:],label='Tangent')\n",
    "plt.plot(f1[0],f1[1],'o',color='g',label='focus')\n",
    "plt.plot(f2[0],f2[1],'o',color='g')\n",
    "plt.plot(P[0],P[1],'o')\n",
    "plt.legend(loc=\"best\")\n",
    "plt.grid()"
   ]
  },
  {
   "cell_type": "code",
   "execution_count": null,
   "metadata": {},
   "outputs": [],
   "source": []
  }
 ],
 "metadata": {
  "kernelspec": {
   "display_name": "Python 3",
   "language": "python",
   "name": "python3"
  },
  "language_info": {
   "codemirror_mode": {
    "name": "ipython",
    "version": 3
   },
   "file_extension": ".py",
   "mimetype": "text/x-python",
   "name": "python",
   "nbconvert_exporter": "python",
   "pygments_lexer": "ipython3",
   "version": "3.7.3"
  }
 },
 "nbformat": 4,
 "nbformat_minor": 2
}
