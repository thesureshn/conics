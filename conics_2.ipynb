{
 "cells": [
  {
   "cell_type": "code",
   "execution_count": 13,
   "metadata": {},
   "outputs": [],
   "source": [
    "#Program to plot  a hyperbola\n",
    "import numpy as np\n",
    "from coeffs import *\n",
    "import matplotlib.pyplot as plt\n",
    "from numpy import linalg as LA\n",
    "\n"
   ]
  },
  {
   "cell_type": "code",
   "execution_count": 14,
   "metadata": {},
   "outputs": [],
   "source": [
    "#setting up plot\n",
    "#fig = plt.figure()\n",
    "#ax = fig.add_subplot(111, aspect='equal')\n",
    "len = 12000\n",
    "theta = np.linspace(-5,5,len)\n",
    "\n",
    "#Given hyperbola parameters\n",
    "#Eqn : x.T@V@x = F\n",
    "V = np.array(([3,0],[0,-1]))\n",
    "F = 3"
   ]
  },
  {
   "cell_type": "code",
   "execution_count": 15,
   "metadata": {},
   "outputs": [
    {
     "name": "stdout",
     "output_type": "stream",
     "text": [
      "[1.41421356 1.73205081]\n",
      "[ 3. -1.]\n",
      "[[1. 0.]\n",
      " [0. 1.]]\n"
     ]
    }
   ],
   "source": [
    "A = np.array([np.sqrt(2),np.sqrt(3)]) \n",
    "print(A)\n",
    "B = np.array([1/np.sqrt(2),0])\n",
    "m = np.linalg.norm(B-A)\n",
    "x_AB = line_gen(B,A)\n",
    "\n",
    "#Standard Eqn : y.T@D@y=1\n",
    "#comparing these equations, get :  \n",
    "#y = P.T@x/sqrt(F)\n",
    "#P.T@V@P = D\n",
    "#P.T@P = I\n",
    "\n",
    "eigval,eigvec = LA.eig(V)\n",
    "print(eigval)\n",
    "print(eigvec)"
   ]
  },
  {
   "cell_type": "code",
   "execution_count": 17,
   "metadata": {},
   "outputs": [
    {
     "name": "stdout",
     "output_type": "stream",
     "text": [
      "D=\n",
      " [[ 3.  0.]\n",
      " [ 0. -1.]]\n",
      "P=\n",
      " [[1. 0.]\n",
      " [0. 1.]]\n"
     ]
    },
    {
     "name": "stderr",
     "output_type": "stream",
     "text": [
      "/home/suresh/anaconda3/lib/python3.7/site-packages/ipykernel_launcher.py:13: RuntimeWarning: invalid value encountered in sqrt\n",
      "  del sys.path[0]\n",
      "/home/suresh/anaconda3/lib/python3.7/site-packages/ipykernel_launcher.py:14: RuntimeWarning: invalid value encountered in sqrt\n",
      "  \n"
     ]
    }
   ],
   "source": [
    "D = np.diag(eigval)\n",
    "P = eigvec\n",
    "print(\"D=\\n\",D)\n",
    "print(\"P=\\n\",P)\n",
    "\n",
    "#Generating points on the hyperbola at origin\n",
    "#y = np.zeros((2,len))\n",
    "#y[0,:] = 1/eigval[0]*np.cosh(theta)\n",
    "#y[1,:] = 1/eigval[1]*np.sinh(theta)\n",
    "\n",
    "#Standard hyperbola : y.T@D@y=1\n",
    "y1 = np.linspace(-1,1,len)\n",
    "y2 = np.sqrt((1-D[0,0]*np.power(y1,2))/(D[1,1]))\n",
    "y3 = -1*np.sqrt((1-D[0,0]*np.power(y1,2))/(D[1,1]))\n",
    "y = np.hstack((np.vstack((y1,y2)),np.vstack((y1,y3))))\n"
   ]
  },
  {
   "cell_type": "code",
   "execution_count": 18,
   "metadata": {},
   "outputs": [
    {
     "data": {
      "image/png": "[encoded data removed]",
      "text/plain": [
       "<Figure size 432x288 with 1 Axes>"
      ]
     },
     "metadata": {
      "needs_background": "light"
     },
     "output_type": "display_data"
    }
   ],
   "source": [
    "#Affine Transformation\n",
    "#Equation : y = P.T@(x-c)/(K**0.5)\n",
    "x = (P @ (y)) * F**0.5\n",
    "\n",
    "plt.plot(x_AB[0,:],x_AB[1,:],label='$AB$')\n",
    "\n",
    "\n",
    "plt.plot(A[0], A[1], 'o')\n",
    "plt.text(A[0] * (1 + 0.1), A[1] * (1 - 0.1) , 'A')\n",
    "plt.plot(B[0], B[1], 'o')\n",
    "plt.text(B[0] * (1 - 0.1), B[1] * (1) , 'B')\n",
    "\n",
    "\n",
    "#Plotting required hyperbola\n",
    "plt.plot(x[0,:len],x[1,:len],color='r',label='Hyperbola H')\n",
    "plt.plot(x[0,len+1:],x[1,len+1:],color='r')\n",
    "\n",
    "ax.plot()\n",
    "plt.xlabel('$x$');plt.ylabel('$y$')\n",
    "plt.legend(loc='best')\n",
    "plt.grid()\n",
    "plt.axis('equal')\n",
    "\n",
    "#if using termux\n",
    "#plt.savefig('../figs/hyperloop.pdf')\n",
    "#plt.savefig('../figs/hyperloop.eps')\n",
    "#subprocess.run(shlex.split(\"termux-open ../figs/hyperloop.pdf\"))\n",
    "#else\n",
    "\n",
    "plt.show()\n"
   ]
  },
  {
   "cell_type": "code",
   "execution_count": null,
   "metadata": {},
   "outputs": [],
   "source": []
  }
 ],
 "metadata": {
  "kernelspec": {
   "display_name": "Python 3",
   "language": "python",
   "name": "python3"
  },
  "language_info": {
   "codemirror_mode": {
    "name": "ipython",
    "version": 3
   },
   "file_extension": ".py",
   "mimetype": "text/x-python",
   "name": "python",
   "nbconvert_exporter": "python",
   "pygments_lexer": "ipython3",
   "version": "3.7.3"
  }
 },
 "nbformat": 4,
 "nbformat_minor": 2
}
