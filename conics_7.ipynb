{
 "cells": [
  {
   "cell_type": "code",
   "execution_count": 1,
   "metadata": {},
   "outputs": [],
   "source": [
    "import numpy as np\n",
    "import matplotlib.pyplot as plt\n",
    "from numpy import linalg as LA"
   ]
  },
  {
   "cell_type": "code",
   "execution_count": 2,
   "metadata": {},
   "outputs": [],
   "source": [
    "#setting up plot\n",
    "#fig = plt.figure()\n",
    "#ax = fig.add_subplot(111, aspect='equal')\n",
    "len = 400\n",
    "theta = np.linspace(-5,5,len)"
   ]
  },
  {
   "cell_type": "code",
   "execution_count": 3,
   "metadata": {},
   "outputs": [],
   "source": [
    "n1 = np.array([4,3])\n",
    "n2 = np.array([3,4])\n",
    "c1 = c2 =12\n"
   ]
  },
  {
   "cell_type": "code",
   "execution_count": 4,
   "metadata": {},
   "outputs": [
    {
     "name": "stdout",
     "output_type": "stream",
     "text": [
      "[1.71428571 1.71428571]\n"
     ]
    }
   ],
   "source": [
    "A = np.vstack((n1,n2))\n",
    "p = np.zeros(2)\n",
    "p[0] = c1\n",
    "p[1] = c2\n",
    "C = np.dot(np.linalg.inv(A),p)\n",
    "print(C)"
   ]
  },
  {
   "cell_type": "code",
   "execution_count": 5,
   "metadata": {},
   "outputs": [],
   "source": [
    "V = np.array([[0,1],[1,0]])\n",
    "F = 0"
   ]
  },
  {
   "cell_type": "code",
   "execution_count": 6,
   "metadata": {},
   "outputs": [
    {
     "name": "stdout",
     "output_type": "stream",
     "text": [
      "[ 1. -1.]\n",
      "[[ 0.70710678 -0.70710678]\n",
      " [ 0.70710678  0.70710678]]\n",
      "D=\n",
      " [[ 1.  0.]\n",
      " [ 0. -1.]]\n",
      "P=\n",
      " [[ 0.70710678 -0.70710678]\n",
      " [ 0.70710678  0.70710678]]\n"
     ]
    }
   ],
   "source": [
    "eigval,eigvec = LA.eig(V)\n",
    "print(eigval)\n",
    "print(eigvec)\n",
    "\n",
    "D = np.diag(eigval)\n",
    "P = eigvec\n",
    "print(\"D=\\n\",D)\n",
    "print(\"P=\\n\",P)"
   ]
  },
  {
   "cell_type": "code",
   "execution_count": 7,
   "metadata": {},
   "outputs": [
    {
     "name": "stderr",
     "output_type": "stream",
     "text": [
      "/home/suresh/anaconda3/lib/python3.7/site-packages/ipykernel_launcher.py:3: RuntimeWarning: invalid value encountered in sqrt\n",
      "  This is separate from the ipykernel package so we can avoid doing imports until\n",
      "/home/suresh/anaconda3/lib/python3.7/site-packages/ipykernel_launcher.py:4: RuntimeWarning: invalid value encountered in sqrt\n",
      "  after removing the cwd from sys.path.\n"
     ]
    }
   ],
   "source": [
    "\n",
    "#Standard hyperbola : y.T@D@y=1\n",
    "y1 = np.linspace(-1,1,len)\n",
    "y2 = np.sqrt((1-D[0,0]*np.power(y1,2))/(D[1,1]))\n",
    "y3 = -1*np.sqrt((1-D[0,0]*np.power(y1,2))/(D[1,1]))\n",
    "y = np.hstack((np.vstack((y1,y2)),np.vstack((y1,y3))))"
   ]
  },
  {
   "cell_type": "code",
   "execution_count": 9,
   "metadata": {},
   "outputs": [],
   "source": [
    "#Affine Transformation\n",
    "#Equation : y = P.T@(x-c)/(K**0.5)\n",
    "x = (P @ (y)) * F**0.5\n",
    "\n",
    "#Plotting required hyperbola\n",
    "#plt.plot(x[0,:len],x[1,:len],color='r',label='Hyperbola H')\n",
    "#plt.plot(x[0,len+1:],x[1,len+1:],color='r')\n",
    "\n",
    "#ax.plot()\n",
    "#plt.xlabel('$x$');plt.ylabel('$y$')\n",
    "#plt.legend(loc='best')\n",
    "#plt.grid()\n",
    "\n",
    "# #if using termux\n",
    "#plt.savefig('../figs/hyperbola.pdf')\n",
    "#plt.savefig('hyperbola.eps')\n",
    "#subprocess.run(shlex.split(\"termux-open ../figs/hyperbola.pdf\"))\n",
    "# #else\n",
    "\n",
    "#plt.show()"
   ]
  },
  {
   "cell_type": "code",
   "execution_count": 10,
   "metadata": {},
   "outputs": [],
   "source": [
    "x1 = np.linspace(-10,10,300)\n",
    "y1 = (12*x1)/(7*x1-12)"
   ]
  },
  {
   "cell_type": "code",
   "execution_count": 11,
   "metadata": {},
   "outputs": [
    {
     "data": {
      "image/png": "[encoded data removed]",
      "text/plain": [
       "<Figure size 432x288 with 1 Axes>"
      ]
     },
     "metadata": {
      "needs_background": "light"
     },
     "output_type": "display_data"
    }
   ],
   "source": [
    "plt.plot(x1,y1,color='g',label='root locus')\n",
    "plt.grid()\n",
    "plt.title('hyperbola')\n",
    "plt.legend(loc='best')\n",
    "plt.show()\n"
   ]
  },
  {
   "cell_type": "code",
   "execution_count": null,
   "metadata": {},
   "outputs": [],
   "source": []
  }
 ],
 "metadata": {
  "kernelspec": {
   "display_name": "Python 3",
   "language": "python",
   "name": "python3"
  },
  "language_info": {
   "codemirror_mode": {
    "name": "ipython",
    "version": 3
   },
   "file_extension": ".py",
   "mimetype": "text/x-python",
   "name": "python",
   "nbconvert_exporter": "python",
   "pygments_lexer": "ipython3",
   "version": "3.7.3"
  }
 },
 "nbformat": 4,
 "nbformat_minor": 2
}
