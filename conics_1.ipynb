{
 "cells": [
  {
   "cell_type": "code",
   "execution_count": 1,
   "metadata": {},
   "outputs": [],
   "source": [
    "import numpy as np\n",
    "import matplotlib.pyplot as plt\n",
    "from coeffs import *"
   ]
  },
  {
   "cell_type": "code",
   "execution_count": 2,
   "metadata": {},
   "outputs": [],
   "source": [
    "F1 = np.array([3/4,0])\n",
    "V1 = np.array([0,0])\n",
    "F2 = np.array([0,3/4])\n",
    "V2 = np.array([0,0])\n",
    "I = np.array([3,3])"
   ]
  },
  {
   "cell_type": "code",
   "execution_count": 3,
   "metadata": {},
   "outputs": [],
   "source": [
    "p1 = np.array([-3/2,3/4])\n",
    "p2 = np.array([3/4,-3/2])"
   ]
  },
  {
   "cell_type": "code",
   "execution_count": 4,
   "metadata": {},
   "outputs": [],
   "source": [
    "\n",
    "# Generating Co-ordinates for Parabola\n",
    "len = 100\n",
    "y1 =np.linspace(-3,3,len)\n",
    "x1 = (1/3)*(y1**2)\n",
    "x_par1= np.vstack((x1,y1)) # Contains Co-Ordinates of Parabola y^2=3x\n",
    "\n",
    "# Generating Co-ordinates for Parabola\n",
    "len = 100\n",
    "x2 =np.linspace(-3,3,len)\n",
    "y2 = (1/3)*(x2**2)\n",
    "x_par2= np.vstack((x2,y2)) # Contains Co-Ordinates of Parabola x^2=3y\n"
   ]
  },
  {
   "cell_type": "code",
   "execution_count": 5,
   "metadata": {},
   "outputs": [
    {
     "data": {
      "image/png": "[encoded data removed]",
      "text/plain": [
       "<Figure size 432x288 with 1 Axes>"
      ]
     },
     "metadata": {
      "needs_background": "light"
     },
     "output_type": "display_data"
    }
   ],
   "source": [
    "\n",
    "x_AB = line_gen(p1,p2)\n",
    "\n",
    "plt.plot(x_AB[0,:],x_AB[1,:],label='$p1p2$')\n",
    "\n",
    "plt.plot(x_par1[0,:],x_par1[1,:], label='$Parabola$')\n",
    "plt.plot(x_par2[0,:],x_par2[1,:], label='$Parabola$')\n",
    "\n",
    "\n",
    "plt.plot(F1[0],F1[1],'o')\n",
    "plt.text(F1[0],F1[1],'F1')\n",
    "plt.plot(F2[0],F2[1],'o')\n",
    "plt.text(F2[0],F2[1],'F2')\n",
    "\n",
    "plt.plot(V1[0],V1[1],'o')\n",
    "plt.text(V1[0],V1[1],'V1')\n",
    "plt.plot(V2[0],V2[1],'o')\n",
    "plt.text(V2[0],V2[1],'V2')\n",
    "\n",
    "plt.plot(I[0],I[1],'o')\n",
    "plt.text(I[0],I[1],'I')\n",
    "\n",
    "plt.plot(p1[0],p1[1],'o')\n",
    "plt.text(p1[0],p1[1],'I')\n",
    "plt.plot(p2[0],p2[1],'o')\n",
    "plt.text(p2[0],p2[1],'I')\n",
    "\n",
    "\n",
    "plt.xlabel('$x$')\n",
    "plt.ylabel('$y$')\n",
    "plt.grid()\n",
    "plt.axis('equal')\n",
    "plt.legend()\n",
    "#plt.axes().set_aspect('equal')\n",
    "plt.show()"
   ]
  },
  {
   "cell_type": "code",
   "execution_count": null,
   "metadata": {},
   "outputs": [],
   "source": []
  }
 ],
 "metadata": {
  "kernelspec": {
   "display_name": "Python 3",
   "language": "python",
   "name": "python3"
  },
  "language_info": {
   "codemirror_mode": {
    "name": "ipython",
    "version": 3
   },
   "file_extension": ".py",
   "mimetype": "text/x-python",
   "name": "python",
   "nbconvert_exporter": "python",
   "pygments_lexer": "ipython3",
   "version": "3.7.3"
  }
 },
 "nbformat": 4,
 "nbformat_minor": 2
}
