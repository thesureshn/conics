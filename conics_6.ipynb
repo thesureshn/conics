{
 "cells": [
  {
   "cell_type": "code",
   "execution_count": 1,
   "metadata": {},
   "outputs": [],
   "source": [
    "import numpy as np\n",
    "import matplotlib.pyplot as plt\n",
    "from coeffs import *\n",
    "from numpy import linalg as LA"
   ]
  },
  {
   "cell_type": "code",
   "execution_count": 2,
   "metadata": {},
   "outputs": [],
   "source": [
    "len = 12000\n",
    "theta = np.linspace(-5,5,len)"
   ]
  },
  {
   "cell_type": "code",
   "execution_count": 3,
   "metadata": {},
   "outputs": [],
   "source": [
    "#given eccentricity equation 9e^2 -18e^2+5\n",
    "a = 9; b = -18; c=5 \n",
    "e1 = (-b+np.sqrt(b**2-4*a*c))/(2*a); e2 = (-b-np.sqrt(b**2-4*a*c))/(2*a) # neglect e2 because e2<1\n",
    "S = np.array([5,0]) #given focus s = (5 0)^T\n",
    "a = S[0]/e1  # focus s = (ae,0)\n",
    "#print(a)\n",
    "b = np.sqrt(np.power(a,2)*(np.power(e1,2)-1)) # using Eccentricity formula\n",
    "#print(\"b \",b)"
   ]
  },
  {
   "cell_type": "code",
   "execution_count": 4,
   "metadata": {},
   "outputs": [],
   "source": [
    "# we can form\n",
    "#Eqn : x.T@V@x = F\n",
    "V = np.array(([np.power(b,2),0],[0,-np.power(a,2)]))\n",
    "F = 144\n"
   ]
  },
  {
   "cell_type": "code",
   "execution_count": 5,
   "metadata": {},
   "outputs": [],
   "source": [
    "eigval,eigvec = LA.eig(V)\n",
    "#print(eigval)\n",
    "#print(eigvec)\n",
    "\n",
    "D = np.diag(eigval)\n",
    "P = eigvec\n",
    "#print(\"D=\\n\",D)\n",
    "#print(\"P=\\n\",P)\n"
   ]
  },
  {
   "cell_type": "code",
   "execution_count": 6,
   "metadata": {},
   "outputs": [
    {
     "name": "stderr",
     "output_type": "stream",
     "text": [
      "/home/suresh/anaconda3/lib/python3.7/site-packages/ipykernel_launcher.py:3: RuntimeWarning: invalid value encountered in sqrt\n",
      "  This is separate from the ipykernel package so we can avoid doing imports until\n",
      "/home/suresh/anaconda3/lib/python3.7/site-packages/ipykernel_launcher.py:4: RuntimeWarning: invalid value encountered in sqrt\n",
      "  after removing the cwd from sys.path.\n"
     ]
    }
   ],
   "source": [
    "#Standard hyperbola : y.T@D@y=1\n",
    "y1 = np.linspace(-1,1,len)\n",
    "y2 = np.sqrt((1-D[0,0]*np.power(y1,2))/(D[1,1]))\n",
    "y3 = -1*np.sqrt((1-D[0,0]*np.power(y1,2))/(D[1,1]))\n",
    "y = np.hstack((np.vstack((y1,y2)),np.vstack((y1,y3))))\n",
    "n = np.array([5,0])\n",
    "c = 9\n",
    "A = np.array([c/n[0],15])\n",
    "B = np.array([c/n[0],-15])\n",
    "X_AB = line_gen(A,B)"
   ]
  },
  {
   "cell_type": "code",
   "execution_count": 7,
   "metadata": {},
   "outputs": [
    {
     "data": {
      "image/png": "[encoded data removed]",
      "text/plain": [
       "<Figure size 432x288 with 1 Axes>"
      ]
     },
     "metadata": {
      "needs_background": "light"
     },
     "output_type": "display_data"
    }
   ],
   "source": [
    "#Affine Transformation\n",
    "#Equation : y = P.T@(x-c)/(K**0.5)\n",
    "x = (P @ (y)) * F**0.5\n",
    "\n",
    "#Plotting required hyperbola\n",
    "plt.plot(x[0,:len],x[1,:len],color='r',label='Hyperbola H')\n",
    "plt.plot(x[0,len+1:],x[1,len+1:],color='r')\n",
    "plt.plot(X_AB[0,:],X_AB[1,:],label='$directrix$')\n",
    "plt.plot(a,0,'o',color='r',label='Vertex')\n",
    "plt.plot(-a,0,'o',color='r')\n",
    "plt.plot(S[0],S[1],'o',color='g',label='Focus')\n",
    "plt.plot(-S[0],S[1],'o',color='g')\n",
    "#ax.plot()\n",
    "plt.xlabel('$x$');plt.ylabel('$y$')\n",
    "plt.legend(loc='best')\n",
    "plt.grid()\n",
    "plt.show()"
   ]
  },
  {
   "cell_type": "code",
   "execution_count": 42,
   "metadata": {},
   "outputs": [
    {
     "name": "stdout",
     "output_type": "stream",
     "text": [
      "b^2-a^2 =  7.0\n"
     ]
    }
   ],
   "source": [
    "print(\"b^2-a^2 = \",np.power(b,2)-np.power(a,2))"
   ]
  }
 ],
 "metadata": {
  "kernelspec": {
   "display_name": "Python 3",
   "language": "python",
   "name": "python3"
  },
  "language_info": {
   "codemirror_mode": {
    "name": "ipython",
    "version": 3
   },
   "file_extension": ".py",
   "mimetype": "text/x-python",
   "name": "python",
   "nbconvert_exporter": "python",
   "pygments_lexer": "ipython3",
   "version": "3.7.3"
  }
 },
 "nbformat": 4,
 "nbformat_minor": 2
}
